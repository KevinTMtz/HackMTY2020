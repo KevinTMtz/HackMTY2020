{
 "cells": [
  {
   "cell_type": "code",
   "execution_count": 1,
   "metadata": {},
   "outputs": [],
   "source": [
    "import pandas as pd\n",
    "import numpy as np"
   ]
  },
  {
   "cell_type": "code",
   "execution_count": 2,
   "metadata": {},
   "outputs": [],
   "source": [
    "import matplotlib.pyplot as plt\n",
    "import seaborn as sns"
   ]
  },
  {
   "cell_type": "code",
   "execution_count": 3,
   "metadata": {},
   "outputs": [],
   "source": [
    "%matplotlib inline"
   ]
  },
  {
   "cell_type": "code",
   "execution_count": 4,
   "metadata": {},
   "outputs": [],
   "source": [
    "df = pd.read_csv('../data/datlas.csv')"
   ]
  },
  {
   "cell_type": "code",
   "execution_count": 5,
   "metadata": {},
   "outputs": [
    {
     "data": {
      "text/html": [
       "<div>\n",
       "<style scoped>\n",
       "    .dataframe tbody tr th:only-of-type {\n",
       "        vertical-align: middle;\n",
       "    }\n",
       "\n",
       "    .dataframe tbody tr th {\n",
       "        vertical-align: top;\n",
       "    }\n",
       "\n",
       "    .dataframe thead th {\n",
       "        text-align: right;\n",
       "    }\n",
       "</style>\n",
       "<table border=\"1\" class=\"dataframe\">\n",
       "  <thead>\n",
       "    <tr style=\"text-align: right;\">\n",
       "      <th></th>\n",
       "      <th>FOLIO_ID,LAT,LONG,CODIGO POSTAL,CALLE,COLONIA,CAUSA SINIESTRO,TIPO VEHICULO,COLOR,MODELO_VEHICULO,NIVEL DAÑO VEHICULO,PUNTO DE IMPACTO,AÑO,MES,DÍA NUMERO,DIA,HORA,ESTADO,CIUDAD_APROXIMADA,DATE</th>\n",
       "      <th>Unnamed: 1</th>\n",
       "      <th>Unnamed: 2</th>\n",
       "    </tr>\n",
       "  </thead>\n",
       "  <tbody>\n",
       "    <tr>\n",
       "      <th>0</th>\n",
       "      <td>D00001,22.7685068,-102.5678956,98000,*EP 2 Bou...</td>\n",
       "      <td>NaN</td>\n",
       "      <td>NaN</td>\n",
       "    </tr>\n",
       "    <tr>\n",
       "      <th>1</th>\n",
       "      <td>D00002,25.6473508,-100.1401324,67277,AMERICA 6...</td>\n",
       "      <td>NaN</td>\n",
       "      <td>NaN</td>\n",
       "    </tr>\n",
       "    <tr>\n",
       "      <th>2</th>\n",
       "      <td>D00003,20.6799172,-103.3686565,44600,AV MEXICO...</td>\n",
       "      <td>NaN</td>\n",
       "      <td>NaN</td>\n",
       "    </tr>\n",
       "    <tr>\n",
       "      <th>3</th>\n",
       "      <td>D00004,25.7180268,-100.2499903,66480,Avenida C...</td>\n",
       "      <td>NaN</td>\n",
       "      <td>NaN</td>\n",
       "    </tr>\n",
       "    <tr>\n",
       "      <th>4</th>\n",
       "      <td>D00005,19.2663028,-99.3317914,\\N,UBERP3,Cuajim...</td>\n",
       "      <td>NaN</td>\n",
       "      <td>NaN</td>\n",
       "    </tr>\n",
       "  </tbody>\n",
       "</table>\n",
       "</div>"
      ],
      "text/plain": [
       "  FOLIO_ID,LAT,LONG,CODIGO POSTAL,CALLE,COLONIA,CAUSA SINIESTRO,TIPO VEHICULO,COLOR,MODELO_VEHICULO,NIVEL DAÑO VEHICULO,PUNTO DE IMPACTO,AÑO,MES,DÍA NUMERO,DIA,HORA,ESTADO,CIUDAD_APROXIMADA,DATE  \\\n",
       "0  D00001,22.7685068,-102.5678956,98000,*EP 2 Bou...                                                                                                                                                 \n",
       "1  D00002,25.6473508,-100.1401324,67277,AMERICA 6...                                                                                                                                                 \n",
       "2  D00003,20.6799172,-103.3686565,44600,AV MEXICO...                                                                                                                                                 \n",
       "3  D00004,25.7180268,-100.2499903,66480,Avenida C...                                                                                                                                                 \n",
       "4  D00005,19.2663028,-99.3317914,\\N,UBERP3,Cuajim...                                                                                                                                                 \n",
       "\n",
       "  Unnamed: 1 Unnamed: 2  \n",
       "0        NaN        NaN  \n",
       "1        NaN        NaN  \n",
       "2        NaN        NaN  \n",
       "3        NaN        NaN  \n",
       "4        NaN        NaN  "
      ]
     },
     "execution_count": 5,
     "metadata": {},
     "output_type": "execute_result"
    }
   ],
   "source": [
    "df.head()"
   ]
  },
  {
   "cell_type": "markdown",
   "metadata": {},
   "source": [
    "## Reformatear datos"
   ]
  },
  {
   "cell_type": "code",
   "execution_count": 6,
   "metadata": {},
   "outputs": [],
   "source": [
    "\n",
    "df1 = pd.DataFrame([ x.split(',') for x in df['FOLIO_ID,LAT,LONG,CODIGO POSTAL,CALLE,COLONIA,CAUSA SINIESTRO,TIPO VEHICULO,COLOR,MODELO_VEHICULO,NIVEL DAÑO VEHICULO,PUNTO DE IMPACTO,AÑO,MES,DÍA NUMERO,DIA,HORA,ESTADO,CIUDAD_APROXIMADA,DATE'].tolist() ])"
   ]
  },
  {
   "cell_type": "code",
   "execution_count": 7,
   "metadata": {},
   "outputs": [],
   "source": [
    "df1 = df1.rename(columns={0: \"FOLIO_ID\", 1: \"LAT\", 2: \"LONG\", 3: \"CODIGO POSTAL\", 4: \"CALLE\", 5: \"COLONIA\", 6: \"CAUSA SINIESTRO\", 7: \"TIPO VEHICULO\", 8: \"COLOR\", 9: \"MODELO_VEHICULO\", 10: \"NIVEL DANO VEHICULO\", 11: \"PUNTO DE IMPACTO\", 12: \"ANO\", 13: \"MES\", 14: \"DIA NUMERO\", 15: \"DIA\", 16: \"HORA\", 17: \"ESTADO\", 18: \"CIUDAD_APROXIMADA\", 19: \"DATE\"})"
   ]
  },
  {
   "cell_type": "code",
   "execution_count": 8,
   "metadata": {},
   "outputs": [
    {
     "data": {
      "text/html": [
       "<div>\n",
       "<style scoped>\n",
       "    .dataframe tbody tr th:only-of-type {\n",
       "        vertical-align: middle;\n",
       "    }\n",
       "\n",
       "    .dataframe tbody tr th {\n",
       "        vertical-align: top;\n",
       "    }\n",
       "\n",
       "    .dataframe thead th {\n",
       "        text-align: right;\n",
       "    }\n",
       "</style>\n",
       "<table border=\"1\" class=\"dataframe\">\n",
       "  <thead>\n",
       "    <tr style=\"text-align: right;\">\n",
       "      <th></th>\n",
       "      <th>FOLIO_ID</th>\n",
       "      <th>LAT</th>\n",
       "      <th>LONG</th>\n",
       "      <th>CODIGO POSTAL</th>\n",
       "      <th>CALLE</th>\n",
       "      <th>COLONIA</th>\n",
       "      <th>CAUSA SINIESTRO</th>\n",
       "      <th>TIPO VEHICULO</th>\n",
       "      <th>COLOR</th>\n",
       "      <th>MODELO_VEHICULO</th>\n",
       "      <th>NIVEL DANO VEHICULO</th>\n",
       "      <th>PUNTO DE IMPACTO</th>\n",
       "      <th>ANO</th>\n",
       "      <th>MES</th>\n",
       "      <th>DIA NUMERO</th>\n",
       "      <th>DIA</th>\n",
       "      <th>HORA</th>\n",
       "      <th>ESTADO</th>\n",
       "      <th>CIUDAD_APROXIMADA</th>\n",
       "      <th>DATE</th>\n",
       "    </tr>\n",
       "  </thead>\n",
       "  <tbody>\n",
       "    <tr>\n",
       "      <th>0</th>\n",
       "      <td>D00001</td>\n",
       "      <td>22.7685068</td>\n",
       "      <td>-102.5678956</td>\n",
       "      <td>98000</td>\n",
       "      <td>*EP 2 Boulevard Adolfo López Mateos</td>\n",
       "      <td>CERRADA DE CASA BLANCA</td>\n",
       "      <td>COLISION Y/O VUELCO</td>\n",
       "      <td>Camión</td>\n",
       "      <td>BLANCO</td>\n",
       "      <td>2016</td>\n",
       "      <td>Bajo</td>\n",
       "      <td>NA</td>\n",
       "      <td>2018</td>\n",
       "      <td>1</td>\n",
       "      <td>11</td>\n",
       "      <td>JUEVES</td>\n",
       "      <td>15</td>\n",
       "      <td>NUEVO LEÓN</td>\n",
       "      <td>SAN NICOLAS DE LOS GARZA</td>\n",
       "      <td>11/01/2018</td>\n",
       "    </tr>\n",
       "    <tr>\n",
       "      <th>1</th>\n",
       "      <td>D00002</td>\n",
       "      <td>25.6473508</td>\n",
       "      <td>-100.1401324</td>\n",
       "      <td>67277</td>\n",
       "      <td>AMERICA 65</td>\n",
       "      <td>BALCONES DE ZINDARO</td>\n",
       "      <td>COLISION Y/O VUELCO</td>\n",
       "      <td>Camión</td>\n",
       "      <td>BLANCO</td>\n",
       "      <td>2009</td>\n",
       "      <td>Sin daño</td>\n",
       "      <td>Costado izq trasero</td>\n",
       "      <td>2018</td>\n",
       "      <td>1</td>\n",
       "      <td>25</td>\n",
       "      <td>JUEVES</td>\n",
       "      <td>10</td>\n",
       "      <td>NUEVO LEÓN</td>\n",
       "      <td>JUAREZ</td>\n",
       "      <td>25/01/2018</td>\n",
       "    </tr>\n",
       "    <tr>\n",
       "      <th>2</th>\n",
       "      <td>D00003</td>\n",
       "      <td>20.6799172</td>\n",
       "      <td>-103.3686565</td>\n",
       "      <td>44600</td>\n",
       "      <td>AV MEXICO</td>\n",
       "      <td>2 RIOS</td>\n",
       "      <td>COLISION Y/O VUELCO</td>\n",
       "      <td>Auto</td>\n",
       "      <td>BLANCO</td>\n",
       "      <td>2005</td>\n",
       "      <td>Sin daño</td>\n",
       "      <td>Trasero</td>\n",
       "      <td>2018</td>\n",
       "      <td>1</td>\n",
       "      <td>15</td>\n",
       "      <td>LUNES</td>\n",
       "      <td>9</td>\n",
       "      <td>NUEVO LEÓN</td>\n",
       "      <td>GUADALUPE</td>\n",
       "      <td>15/01/2018</td>\n",
       "    </tr>\n",
       "    <tr>\n",
       "      <th>3</th>\n",
       "      <td>D00004</td>\n",
       "      <td>25.7180268</td>\n",
       "      <td>-100.2499903</td>\n",
       "      <td>66480</td>\n",
       "      <td>Avenida Conductores</td>\n",
       "      <td>Conductores Infonavit</td>\n",
       "      <td>COLISION Y/O VUELCO</td>\n",
       "      <td>Auto</td>\n",
       "      <td>GRIS</td>\n",
       "      <td>2016</td>\n",
       "      <td>Sin daño</td>\n",
       "      <td>Frontal</td>\n",
       "      <td>2018</td>\n",
       "      <td>1</td>\n",
       "      <td>19</td>\n",
       "      <td>VIERNES</td>\n",
       "      <td>9</td>\n",
       "      <td>NUEVO LEÓN</td>\n",
       "      <td>SAN NICOLAS DE LOS GARZA</td>\n",
       "      <td>19/01/2018</td>\n",
       "    </tr>\n",
       "    <tr>\n",
       "      <th>4</th>\n",
       "      <td>D00005</td>\n",
       "      <td>19.2663028</td>\n",
       "      <td>-99.3317914</td>\n",
       "      <td>\\N</td>\n",
       "      <td>UBERP3</td>\n",
       "      <td>Cuajimalpa</td>\n",
       "      <td>HUELGAS Y ALBOROTOS</td>\n",
       "      <td>Auto</td>\n",
       "      <td>NEGRO</td>\n",
       "      <td>2016</td>\n",
       "      <td>Medio</td>\n",
       "      <td>NA</td>\n",
       "      <td>2018</td>\n",
       "      <td>1</td>\n",
       "      <td>3</td>\n",
       "      <td>MIERCOLES</td>\n",
       "      <td>16</td>\n",
       "      <td>NUEVO LEÓN</td>\n",
       "      <td>MONTERREY</td>\n",
       "      <td>03/01/2018</td>\n",
       "    </tr>\n",
       "  </tbody>\n",
       "</table>\n",
       "</div>"
      ],
      "text/plain": [
       "  FOLIO_ID         LAT          LONG CODIGO POSTAL  \\\n",
       "0   D00001  22.7685068  -102.5678956         98000   \n",
       "1   D00002  25.6473508  -100.1401324         67277   \n",
       "2   D00003  20.6799172  -103.3686565         44600   \n",
       "3   D00004  25.7180268  -100.2499903         66480   \n",
       "4   D00005  19.2663028   -99.3317914            \\N   \n",
       "\n",
       "                                 CALLE                 COLONIA  \\\n",
       "0  *EP 2 Boulevard Adolfo López Mateos  CERRADA DE CASA BLANCA   \n",
       "1                           AMERICA 65     BALCONES DE ZINDARO   \n",
       "2                            AV MEXICO                  2 RIOS   \n",
       "3                  Avenida Conductores   Conductores Infonavit   \n",
       "4                               UBERP3              Cuajimalpa   \n",
       "\n",
       "       CAUSA SINIESTRO TIPO VEHICULO   COLOR MODELO_VEHICULO  \\\n",
       "0  COLISION Y/O VUELCO        Camión  BLANCO            2016   \n",
       "1  COLISION Y/O VUELCO        Camión  BLANCO            2009   \n",
       "2  COLISION Y/O VUELCO          Auto  BLANCO            2005   \n",
       "3  COLISION Y/O VUELCO          Auto    GRIS            2016   \n",
       "4  HUELGAS Y ALBOROTOS          Auto   NEGRO            2016   \n",
       "\n",
       "  NIVEL DANO VEHICULO     PUNTO DE IMPACTO   ANO MES DIA NUMERO        DIA  \\\n",
       "0                Bajo                   NA  2018   1         11     JUEVES   \n",
       "1            Sin daño  Costado izq trasero  2018   1         25     JUEVES   \n",
       "2            Sin daño              Trasero  2018   1         15      LUNES   \n",
       "3            Sin daño              Frontal  2018   1         19    VIERNES   \n",
       "4               Medio                   NA  2018   1          3  MIERCOLES   \n",
       "\n",
       "  HORA      ESTADO         CIUDAD_APROXIMADA        DATE  \n",
       "0   15  NUEVO LEÓN  SAN NICOLAS DE LOS GARZA  11/01/2018  \n",
       "1   10  NUEVO LEÓN                    JUAREZ  25/01/2018  \n",
       "2    9  NUEVO LEÓN                 GUADALUPE  15/01/2018  \n",
       "3    9  NUEVO LEÓN  SAN NICOLAS DE LOS GARZA  19/01/2018  \n",
       "4   16  NUEVO LEÓN                 MONTERREY  03/01/2018  "
      ]
     },
     "execution_count": 8,
     "metadata": {},
     "output_type": "execute_result"
    }
   ],
   "source": [
    "df1.head()"
   ]
  },
  {
   "cell_type": "code",
   "execution_count": 9,
   "metadata": {},
   "outputs": [
    {
     "data": {
      "text/html": [
       "<div>\n",
       "<style scoped>\n",
       "    .dataframe tbody tr th:only-of-type {\n",
       "        vertical-align: middle;\n",
       "    }\n",
       "\n",
       "    .dataframe tbody tr th {\n",
       "        vertical-align: top;\n",
       "    }\n",
       "\n",
       "    .dataframe thead th {\n",
       "        text-align: right;\n",
       "    }\n",
       "</style>\n",
       "<table border=\"1\" class=\"dataframe\">\n",
       "  <thead>\n",
       "    <tr style=\"text-align: right;\">\n",
       "      <th></th>\n",
       "      <th>FOLIO_ID</th>\n",
       "      <th>LAT</th>\n",
       "      <th>LONG</th>\n",
       "      <th>CODIGO POSTAL</th>\n",
       "      <th>CALLE</th>\n",
       "      <th>COLONIA</th>\n",
       "      <th>CAUSA SINIESTRO</th>\n",
       "      <th>TIPO VEHICULO</th>\n",
       "      <th>COLOR</th>\n",
       "      <th>MODELO_VEHICULO</th>\n",
       "      <th>NIVEL DANO VEHICULO</th>\n",
       "      <th>PUNTO DE IMPACTO</th>\n",
       "      <th>ANO</th>\n",
       "      <th>MES</th>\n",
       "      <th>DIA NUMERO</th>\n",
       "      <th>DIA</th>\n",
       "      <th>HORA</th>\n",
       "      <th>ESTADO</th>\n",
       "      <th>CIUDAD_APROXIMADA</th>\n",
       "      <th>DATE</th>\n",
       "    </tr>\n",
       "  </thead>\n",
       "  <tbody>\n",
       "    <tr>\n",
       "      <th>count</th>\n",
       "      <td>116011</td>\n",
       "      <td>116011</td>\n",
       "      <td>116011</td>\n",
       "      <td>116011</td>\n",
       "      <td>116011</td>\n",
       "      <td>116004</td>\n",
       "      <td>116004</td>\n",
       "      <td>116004</td>\n",
       "      <td>116004</td>\n",
       "      <td>116004</td>\n",
       "      <td>116004</td>\n",
       "      <td>116004</td>\n",
       "      <td>116004</td>\n",
       "      <td>116004</td>\n",
       "      <td>116004</td>\n",
       "      <td>116004</td>\n",
       "      <td>116004</td>\n",
       "      <td>116004</td>\n",
       "      <td>116004</td>\n",
       "      <td>116003</td>\n",
       "    </tr>\n",
       "    <tr>\n",
       "      <th>unique</th>\n",
       "      <td>116011</td>\n",
       "      <td>84842</td>\n",
       "      <td>85521</td>\n",
       "      <td>858</td>\n",
       "      <td>47748</td>\n",
       "      <td>20652</td>\n",
       "      <td>7</td>\n",
       "      <td>6</td>\n",
       "      <td>2745</td>\n",
       "      <td>66</td>\n",
       "      <td>6</td>\n",
       "      <td>15</td>\n",
       "      <td>3</td>\n",
       "      <td>12</td>\n",
       "      <td>31</td>\n",
       "      <td>7</td>\n",
       "      <td>24</td>\n",
       "      <td>1</td>\n",
       "      <td>98</td>\n",
       "      <td>911</td>\n",
       "    </tr>\n",
       "    <tr>\n",
       "      <th>top</th>\n",
       "      <td>D16532</td>\n",
       "      <td>0</td>\n",
       "      <td>0</td>\n",
       "      <td>0</td>\n",
       "      <td>Avenida Eugenio Garza Sada</td>\n",
       "      <td>Monterrey Centro</td>\n",
       "      <td>COLISION Y/O VUELCO</td>\n",
       "      <td>Auto</td>\n",
       "      <td>BLANCO</td>\n",
       "      <td>2012</td>\n",
       "      <td>Bajo</td>\n",
       "      <td>Trasero</td>\n",
       "      <td>2016</td>\n",
       "      <td>5</td>\n",
       "      <td>4</td>\n",
       "      <td>VIERNES</td>\n",
       "      <td>14</td>\n",
       "      <td>NUEVO LEÓN</td>\n",
       "      <td>MONTERREY</td>\n",
       "      <td>04/05/2017</td>\n",
       "    </tr>\n",
       "    <tr>\n",
       "      <th>freq</th>\n",
       "      <td>1</td>\n",
       "      <td>9602</td>\n",
       "      <td>9602</td>\n",
       "      <td>9481</td>\n",
       "      <td>949</td>\n",
       "      <td>4216</td>\n",
       "      <td>113861</td>\n",
       "      <td>86795</td>\n",
       "      <td>32366</td>\n",
       "      <td>9802</td>\n",
       "      <td>58360</td>\n",
       "      <td>25915</td>\n",
       "      <td>54728</td>\n",
       "      <td>12538</td>\n",
       "      <td>4233</td>\n",
       "      <td>19410</td>\n",
       "      <td>8845</td>\n",
       "      <td>116004</td>\n",
       "      <td>48738</td>\n",
       "      <td>439</td>\n",
       "    </tr>\n",
       "  </tbody>\n",
       "</table>\n",
       "</div>"
      ],
      "text/plain": [
       "       FOLIO_ID     LAT    LONG CODIGO POSTAL                       CALLE  \\\n",
       "count    116011  116011  116011        116011                      116011   \n",
       "unique   116011   84842   85521           858                       47748   \n",
       "top      D16532       0       0             0  Avenida Eugenio Garza Sada   \n",
       "freq          1    9602    9602          9481                         949   \n",
       "\n",
       "                 COLONIA      CAUSA SINIESTRO TIPO VEHICULO   COLOR  \\\n",
       "count             116004               116004        116004  116004   \n",
       "unique             20652                    7             6    2745   \n",
       "top     Monterrey Centro  COLISION Y/O VUELCO          Auto  BLANCO   \n",
       "freq                4216               113861         86795   32366   \n",
       "\n",
       "       MODELO_VEHICULO NIVEL DANO VEHICULO PUNTO DE IMPACTO     ANO     MES  \\\n",
       "count           116004              116004           116004  116004  116004   \n",
       "unique              66                   6               15       3      12   \n",
       "top               2012                Bajo          Trasero    2016       5   \n",
       "freq              9802               58360            25915   54728   12538   \n",
       "\n",
       "       DIA NUMERO      DIA    HORA      ESTADO CIUDAD_APROXIMADA        DATE  \n",
       "count      116004   116004  116004      116004            116004      116003  \n",
       "unique         31        7      24           1                98         911  \n",
       "top             4  VIERNES      14  NUEVO LEÓN         MONTERREY  04/05/2017  \n",
       "freq         4233    19410    8845      116004             48738         439  "
      ]
     },
     "execution_count": 9,
     "metadata": {},
     "output_type": "execute_result"
    }
   ],
   "source": [
    "df1.describe()"
   ]
  },
  {
   "cell_type": "code",
   "execution_count": 10,
   "metadata": {
    "scrolled": true
   },
   "outputs": [
    {
     "name": "stdout",
     "output_type": "stream",
     "text": [
      "<class 'pandas.core.frame.DataFrame'>\n",
      "RangeIndex: 116011 entries, 0 to 116010\n",
      "Data columns (total 20 columns):\n",
      " #   Column               Non-Null Count   Dtype \n",
      "---  ------               --------------   ----- \n",
      " 0   FOLIO_ID             116011 non-null  object\n",
      " 1   LAT                  116011 non-null  object\n",
      " 2   LONG                 116011 non-null  object\n",
      " 3   CODIGO POSTAL        116011 non-null  object\n",
      " 4   CALLE                116011 non-null  object\n",
      " 5   COLONIA              116004 non-null  object\n",
      " 6   CAUSA SINIESTRO      116004 non-null  object\n",
      " 7   TIPO VEHICULO        116004 non-null  object\n",
      " 8   COLOR                116004 non-null  object\n",
      " 9   MODELO_VEHICULO      116004 non-null  object\n",
      " 10  NIVEL DANO VEHICULO  116004 non-null  object\n",
      " 11  PUNTO DE IMPACTO     116004 non-null  object\n",
      " 12  ANO                  116004 non-null  object\n",
      " 13  MES                  116004 non-null  object\n",
      " 14  DIA NUMERO           116004 non-null  object\n",
      " 15  DIA                  116004 non-null  object\n",
      " 16  HORA                 116004 non-null  object\n",
      " 17  ESTADO               116004 non-null  object\n",
      " 18  CIUDAD_APROXIMADA    116004 non-null  object\n",
      " 19  DATE                 116003 non-null  object\n",
      "dtypes: object(20)\n",
      "memory usage: 17.7+ MB\n"
     ]
    }
   ],
   "source": [
    "df1.info()"
   ]
  },
  {
   "cell_type": "markdown",
   "metadata": {},
   "source": [
    "### Descartar datos invalidos"
   ]
  },
  {
   "cell_type": "code",
   "execution_count": 11,
   "metadata": {},
   "outputs": [],
   "source": [
    "import sklearn"
   ]
  },
  {
   "cell_type": "code",
   "execution_count": 12,
   "metadata": {},
   "outputs": [],
   "source": [
    "df_test = sklearn.utils.shuffle(df1)"
   ]
  },
  {
   "cell_type": "code",
   "execution_count": 13,
   "metadata": {},
   "outputs": [],
   "source": [
    "def drop_value(df_input, column, val):\n",
    "    indexNames = df_input[df_input[column] == val].index\n",
    "    # Delete these row indexes from dataFrame\n",
    "    df_input.drop(indexNames, inplace=True)"
   ]
  },
  {
   "cell_type": "markdown",
   "metadata": {},
   "source": [
    "## Descartar datos invalidos"
   ]
  },
  {
   "cell_type": "code",
   "execution_count": 14,
   "metadata": {},
   "outputs": [
    {
     "name": "stderr",
     "output_type": "stream",
     "text": [
      "C:\\Users\\efren\\anaconda3\\lib\\site-packages\\pandas\\core\\frame.py:3990: SettingWithCopyWarning: \n",
      "A value is trying to be set on a copy of a slice from a DataFrame\n",
      "\n",
      "See the caveats in the documentation: https://pandas.pydata.org/pandas-docs/stable/user_guide/indexing.html#returning-a-view-versus-a-copy\n",
      "  return super().drop(\n"
     ]
    }
   ],
   "source": [
    "drop_value(df_test, 'LAT', '0')\n",
    "drop_value(df_test, 'CODIGO POSTAL', '0')\n",
    "drop_value(df_test, 'LAT', '')\n",
    "drop_value(df_test, 'COLONIA', '')\n",
    "drop_value(df_test, 'CAUSA SINIESTRO', '')\n",
    "drop_value(df_test, 'TIPO VEHICULO', '')\n",
    "drop_value(df_test, 'COLOR', '')\n",
    "drop_value(df_test, 'MODELO_VEHICULO', '')\n",
    "\n",
    "drop_value(df_test, 'CODIGO POSTAL', '\\\\N')\n",
    "drop_value(df_test, 'CALLE', '\\\\N')\n",
    "drop_value(df_test, 'COLONIA', '\\\\N')\n",
    "drop_value(df_test, 'CAUSA SINIESTRO', '\\\\N')\n",
    "drop_value(df_test, 'COLOR', '\\\\N')\n",
    "drop_value(df_test, 'MODELO_VEHICULO', '\\\\N')\n",
    "drop_value(df_test, 'NIVEL DANO VEHICULO', '\\\\N')\n",
    "drop_value(df_test, 'PUNTO DE IMPACTO', '\\\\N')\n",
    "drop_value(df_test, 'ANO', '\\\\N')\n",
    "drop_value(df_test, 'CIUDAD_APROXIMADA', '\\\\N')\n",
    "drop_value(df_test, 'PUNTO DE IMPACTO', 'NA')"
   ]
  },
  {
   "cell_type": "code",
   "execution_count": 15,
   "metadata": {},
   "outputs": [],
   "source": [
    "df_test = df_test.drop(['COLOR', 'TIPO VEHICULO', 'CAUSA SINIESTRO', 'PUNTO DE IMPACTO', 'ESTADO', 'FOLIO_ID', 'DATE'], axis=1)"
   ]
  },
  {
   "cell_type": "code",
   "execution_count": 16,
   "metadata": {},
   "outputs": [],
   "source": [
    "df_test.dropna(inplace=True)"
   ]
  },
  {
   "cell_type": "markdown",
   "metadata": {},
   "source": [
    "## Convertir valores a númericos"
   ]
  },
  {
   "cell_type": "code",
   "execution_count": 17,
   "metadata": {},
   "outputs": [],
   "source": [
    "df_test = df_test[df_test['CODIGO POSTAL'].apply(lambda x: str(x).isnumeric())]"
   ]
  },
  {
   "cell_type": "code",
   "execution_count": 18,
   "metadata": {},
   "outputs": [],
   "source": [
    "di = {'Sin daño': 0, 'Bajo': 1, 'Medio': 2, 'Alto': 4}\n",
    "df_test = df_test.replace({'NIVEL DANO VEHICULO': di})"
   ]
  },
  {
   "cell_type": "code",
   "execution_count": 19,
   "metadata": {},
   "outputs": [],
   "source": [
    "di_2 = {'LUNES': 0, 'MARTES': 1, 'MIERCOLES': 2, 'JUEVES': 3, 'VIERNES': 4, 'SABADO': 5, 'DOMINGO': 6}\n",
    "df_test = df_test.replace({'DIA': di_2})"
   ]
  },
  {
   "cell_type": "code",
   "execution_count": 20,
   "metadata": {},
   "outputs": [
    {
     "name": "stdout",
     "output_type": "stream",
     "text": [
      "<class 'pandas.core.frame.DataFrame'>\n",
      "Int64Index: 93785 entries, 18093 to 17235\n",
      "Data columns (total 13 columns):\n",
      " #   Column               Non-Null Count  Dtype  \n",
      "---  ------               --------------  -----  \n",
      " 0   LAT                  93785 non-null  float64\n",
      " 1   LONG                 93785 non-null  float64\n",
      " 2   CODIGO POSTAL        93785 non-null  object \n",
      " 3   CALLE                93785 non-null  object \n",
      " 4   COLONIA              93785 non-null  object \n",
      " 5   MODELO_VEHICULO      93785 non-null  object \n",
      " 6   NIVEL DANO VEHICULO  93785 non-null  int64  \n",
      " 7   ANO                  93785 non-null  object \n",
      " 8   MES                  93785 non-null  float64\n",
      " 9   DIA NUMERO           93785 non-null  float64\n",
      " 10  DIA                  93785 non-null  float64\n",
      " 11  HORA                 93785 non-null  float64\n",
      " 12  CIUDAD_APROXIMADA    93785 non-null  object \n",
      "dtypes: float64(6), int64(1), object(6)\n",
      "memory usage: 10.0+ MB\n"
     ]
    }
   ],
   "source": [
    "df_test['LAT'] = df_test['LAT'].astype(float)\n",
    "df_test['LONG'] = df_test['LONG'].astype(float)\n",
    "df_test['DIA NUMERO'] = df_test['DIA NUMERO'].astype(float)\n",
    "df_test['DIA'] = df_test['DIA'].astype(float)\n",
    "df_test['HORA'] = df_test['HORA'].astype(float)\n",
    "df_test['MES'] = df_test['MES'].astype(float)\n",
    "df_test.info()"
   ]
  },
  {
   "cell_type": "markdown",
   "metadata": {},
   "source": [
    "## Geohash"
   ]
  },
  {
   "cell_type": "code",
   "execution_count": 21,
   "metadata": {},
   "outputs": [],
   "source": [
    "df_test = df_test.round({'LAT': 3, 'LONG': 3})"
   ]
  },
  {
   "cell_type": "code",
   "execution_count": 22,
   "metadata": {},
   "outputs": [],
   "source": [
    "# Get names of indexes for which column Age has value 30\n",
    "indexNames = df_test[(df_test['LAT'] <= 23.1763) | (df_test['LAT'] >= 27.7814)].index\n",
    "# Delete these row indexes from dataFrame\n",
    "df_test.drop(indexNames , inplace=True)"
   ]
  },
  {
   "cell_type": "code",
   "execution_count": 23,
   "metadata": {},
   "outputs": [],
   "source": [
    "# Get names of indexes for which column Age has value 30\n",
    "indexNames = df_test[(df_test['LONG'] <= -101.2307) | (df_test['LONG'] >= -98.4633)].index\n",
    "# Delete these row indexes from dataFrame\n",
    "df_test.drop(indexNames , inplace=True)"
   ]
  },
  {
   "cell_type": "code",
   "execution_count": 24,
   "metadata": {},
   "outputs": [],
   "source": [
    "from geolib import geohash"
   ]
  },
  {
   "cell_type": "code",
   "execution_count": 25,
   "metadata": {},
   "outputs": [],
   "source": [
    "def encode_geohash (row):\n",
    "    return geohash.encode(row['LAT'], row['LONG'], 5)"
   ]
  },
  {
   "cell_type": "code",
   "execution_count": 26,
   "metadata": {},
   "outputs": [],
   "source": [
    "df_test['GEOHASH'] = df_test.apply (lambda row: encode_geohash(row), axis=1)"
   ]
  },
  {
   "cell_type": "code",
   "execution_count": 27,
   "metadata": {},
   "outputs": [
    {
     "data": {
      "text/html": [
       "<div>\n",
       "<style scoped>\n",
       "    .dataframe tbody tr th:only-of-type {\n",
       "        vertical-align: middle;\n",
       "    }\n",
       "\n",
       "    .dataframe tbody tr th {\n",
       "        vertical-align: top;\n",
       "    }\n",
       "\n",
       "    .dataframe thead th {\n",
       "        text-align: right;\n",
       "    }\n",
       "</style>\n",
       "<table border=\"1\" class=\"dataframe\">\n",
       "  <thead>\n",
       "    <tr style=\"text-align: right;\">\n",
       "      <th></th>\n",
       "      <th>LAT</th>\n",
       "      <th>LONG</th>\n",
       "      <th>CODIGO POSTAL</th>\n",
       "      <th>CALLE</th>\n",
       "      <th>COLONIA</th>\n",
       "      <th>MODELO_VEHICULO</th>\n",
       "      <th>NIVEL DANO VEHICULO</th>\n",
       "      <th>ANO</th>\n",
       "      <th>MES</th>\n",
       "      <th>DIA NUMERO</th>\n",
       "      <th>DIA</th>\n",
       "      <th>HORA</th>\n",
       "      <th>CIUDAD_APROXIMADA</th>\n",
       "      <th>GEOHASH</th>\n",
       "    </tr>\n",
       "  </thead>\n",
       "  <tbody>\n",
       "    <tr>\n",
       "      <th>18093</th>\n",
       "      <td>25.963</td>\n",
       "      <td>-100.180</td>\n",
       "      <td>65558</td>\n",
       "      <td>Calle de los Maestros</td>\n",
       "      <td>Fracc Lomas de Ciénega</td>\n",
       "      <td>2006</td>\n",
       "      <td>0</td>\n",
       "      <td>2017</td>\n",
       "      <td>1.0</td>\n",
       "      <td>2.0</td>\n",
       "      <td>0.0</td>\n",
       "      <td>9.0</td>\n",
       "      <td>CIENEGA DE FLORES</td>\n",
       "      <td>9u8g8</td>\n",
       "    </tr>\n",
       "    <tr>\n",
       "      <th>96728</th>\n",
       "      <td>25.781</td>\n",
       "      <td>-100.198</td>\n",
       "      <td>66600</td>\n",
       "      <td>Reforma</td>\n",
       "      <td>Homero Sepúlveda</td>\n",
       "      <td>2012</td>\n",
       "      <td>1</td>\n",
       "      <td>2016</td>\n",
       "      <td>8.0</td>\n",
       "      <td>23.0</td>\n",
       "      <td>1.0</td>\n",
       "      <td>12.0</td>\n",
       "      <td>APODACA</td>\n",
       "      <td>9u8dx</td>\n",
       "    </tr>\n",
       "    <tr>\n",
       "      <th>43095</th>\n",
       "      <td>25.752</td>\n",
       "      <td>-100.129</td>\n",
       "      <td>66673</td>\n",
       "      <td>Via Rapida al Aeropuerto</td>\n",
       "      <td>Lomas de San Martín</td>\n",
       "      <td>2013</td>\n",
       "      <td>1</td>\n",
       "      <td>2017</td>\n",
       "      <td>7.0</td>\n",
       "      <td>25.0</td>\n",
       "      <td>1.0</td>\n",
       "      <td>6.0</td>\n",
       "      <td>PESQUERIA</td>\n",
       "      <td>9u8f9</td>\n",
       "    </tr>\n",
       "    <tr>\n",
       "      <th>31071</th>\n",
       "      <td>25.805</td>\n",
       "      <td>-100.271</td>\n",
       "      <td>66052</td>\n",
       "      <td>calle ciruelo 321</td>\n",
       "      <td>Col residencial rincones C.P. 66050</td>\n",
       "      <td>2015</td>\n",
       "      <td>1</td>\n",
       "      <td>2017</td>\n",
       "      <td>4.0</td>\n",
       "      <td>17.0</td>\n",
       "      <td>0.0</td>\n",
       "      <td>14.0</td>\n",
       "      <td>GENERAL ESCOBEDO</td>\n",
       "      <td>9u8dy</td>\n",
       "    </tr>\n",
       "    <tr>\n",
       "      <th>66878</th>\n",
       "      <td>25.680</td>\n",
       "      <td>-100.333</td>\n",
       "      <td>6400</td>\n",
       "      <td>Nicolás Bravo</td>\n",
       "      <td>Zona Centro</td>\n",
       "      <td>2008</td>\n",
       "      <td>0</td>\n",
       "      <td>2016</td>\n",
       "      <td>2.0</td>\n",
       "      <td>4.0</td>\n",
       "      <td>3.0</td>\n",
       "      <td>15.0</td>\n",
       "      <td>MONTERREY</td>\n",
       "      <td>9u8dh</td>\n",
       "    </tr>\n",
       "  </tbody>\n",
       "</table>\n",
       "</div>"
      ],
      "text/plain": [
       "          LAT     LONG CODIGO POSTAL                     CALLE  \\\n",
       "18093  25.963 -100.180         65558     Calle de los Maestros   \n",
       "96728  25.781 -100.198         66600                   Reforma   \n",
       "43095  25.752 -100.129         66673  Via Rapida al Aeropuerto   \n",
       "31071  25.805 -100.271         66052         calle ciruelo 321   \n",
       "66878  25.680 -100.333          6400             Nicolás Bravo   \n",
       "\n",
       "                                   COLONIA MODELO_VEHICULO  \\\n",
       "18093               Fracc Lomas de Ciénega            2006   \n",
       "96728                     Homero Sepúlveda            2012   \n",
       "43095                  Lomas de San Martín            2013   \n",
       "31071  Col residencial rincones C.P. 66050            2015   \n",
       "66878                          Zona Centro            2008   \n",
       "\n",
       "       NIVEL DANO VEHICULO   ANO  MES  DIA NUMERO  DIA  HORA  \\\n",
       "18093                    0  2017  1.0         2.0  0.0   9.0   \n",
       "96728                    1  2016  8.0        23.0  1.0  12.0   \n",
       "43095                    1  2017  7.0        25.0  1.0   6.0   \n",
       "31071                    1  2017  4.0        17.0  0.0  14.0   \n",
       "66878                    0  2016  2.0         4.0  3.0  15.0   \n",
       "\n",
       "       CIUDAD_APROXIMADA GEOHASH  \n",
       "18093  CIENEGA DE FLORES   9u8g8  \n",
       "96728            APODACA   9u8dx  \n",
       "43095          PESQUERIA   9u8f9  \n",
       "31071   GENERAL ESCOBEDO   9u8dy  \n",
       "66878          MONTERREY   9u8dh  "
      ]
     },
     "execution_count": 27,
     "metadata": {},
     "output_type": "execute_result"
    }
   ],
   "source": [
    "df_test.head()"
   ]
  },
  {
   "cell_type": "markdown",
   "metadata": {},
   "source": [
    "## Explorar datos"
   ]
  },
  {
   "cell_type": "code",
   "execution_count": 28,
   "metadata": {},
   "outputs": [],
   "source": [
    "df_min = sklearn.utils.shuffle(df_test[0:40000])"
   ]
  },
  {
   "cell_type": "code",
   "execution_count": 29,
   "metadata": {},
   "outputs": [
    {
     "data": {
      "text/plain": [
       "<matplotlib.axes._subplots.AxesSubplot at 0x25578b31ee0>"
      ]
     },
     "execution_count": 29,
     "metadata": {},
     "output_type": "execute_result"
    },
    {
     "data": {
      "image/png": "[encoded data removed]",
      "text/plain": [
       "<Figure size 432x288 with 1 Axes>"
      ]
     },
     "metadata": {
      "needs_background": "light"
     },
     "output_type": "display_data"
    }
   ],
   "source": [
    "sns.distplot(df_min['HORA'])"
   ]
  },
  {
   "cell_type": "code",
   "execution_count": 30,
   "metadata": {},
   "outputs": [
    {
     "data": {
      "text/plain": [
       "<matplotlib.axes._subplots.AxesSubplot at 0x2557a2e2460>"
      ]
     },
     "execution_count": 30,
     "metadata": {},
     "output_type": "execute_result"
    },
    {
     "data": {
      "image/png": "[encoded data removed]",
      "text/plain": [
       "<Figure size 432x288 with 1 Axes>"
      ]
     },
     "metadata": {
      "needs_background": "light"
     },
     "output_type": "display_data"
    }
   ],
   "source": [
    "sns.distplot(df_min['NIVEL DANO VEHICULO'])"
   ]
  },
  {
   "cell_type": "code",
   "execution_count": 31,
   "metadata": {},
   "outputs": [
    {
     "data": {
      "text/plain": [
       "<matplotlib.axes._subplots.AxesSubplot at 0x2557f2765b0>"
      ]
     },
     "execution_count": 31,
     "metadata": {},
     "output_type": "execute_result"
    },
    {
     "data": {
      "image/png": "[encoded data removed]",
      "text/plain": [
       "<Figure size 432x288 with 1 Axes>"
      ]
     },
     "metadata": {
      "needs_background": "light"
     },
     "output_type": "display_data"
    }
   ],
   "source": [
    "sns.distplot(df_min['DIA'])"
   ]
  },
  {
   "cell_type": "code",
   "execution_count": 32,
   "metadata": {},
   "outputs": [
    {
     "data": {
      "text/plain": [
       "<matplotlib.axes._subplots.AxesSubplot at 0x25503904e20>"
      ]
     },
     "execution_count": 32,
     "metadata": {},
     "output_type": "execute_result"
    },
    {
     "data": {
      "image/png": "[encoded data removed]",
      "text/plain": [
       "<Figure size 432x288 with 1 Axes>"
      ]
     },
     "metadata": {
      "needs_background": "light"
     },
     "output_type": "display_data"
    }
   ],
   "source": [
    "sns.distplot(df_min['DIA NUMERO'])"
   ]
  },
  {
   "cell_type": "code",
   "execution_count": 33,
   "metadata": {},
   "outputs": [
    {
     "data": {
      "text/plain": [
       "<matplotlib.axes._subplots.AxesSubplot at 0x255031b5b50>"
      ]
     },
     "execution_count": 33,
     "metadata": {},
     "output_type": "execute_result"
    },
    {
     "data": {
      "image/png": "[encoded data removed]",
      "text/plain": [
       "<Figure size 432x288 with 1 Axes>"
      ]
     },
     "metadata": {
      "needs_background": "light"
     },
     "output_type": "display_data"
    }
   ],
   "source": [
    "sns.distplot(df_min['MES'])"
   ]
  },
  {
   "cell_type": "code",
   "execution_count": 34,
   "metadata": {},
   "outputs": [
    {
     "data": {
      "text/plain": [
       "<matplotlib.axes._subplots.AxesSubplot at 0x25502bc8400>"
      ]
     },
     "execution_count": 34,
     "metadata": {},
     "output_type": "execute_result"
    },
    {
     "data": {
      "image/png": "[encoded data removed]",
      "text/plain": [
       "<Figure size 432x288 with 1 Axes>"
      ]
     },
     "metadata": {
      "needs_background": "light"
     },
     "output_type": "display_data"
    }
   ],
   "source": [
    "sns.distplot(df_min['ANO'])"
   ]
  },
  {
   "cell_type": "markdown",
   "metadata": {},
   "source": [
    "## Encontrar relaciones y dependencias"
   ]
  },
  {
   "cell_type": "code",
   "execution_count": 35,
   "metadata": {},
   "outputs": [],
   "source": [
    "import scipy.stats as stats\n"
   ]
  },
  {
   "cell_type": "code",
   "execution_count": 36,
   "metadata": {},
   "outputs": [],
   "source": [
    "def show_rel(X_str, y_str, df_data): \n",
    "    g = sns.jointplot(x=X_str,y=y_str,data=df_data,color='red',kind='kde');\n",
    "    g.annotate(stats.pearsonr)\n",
    "    plt.show()"
   ]
  },
  {
   "cell_type": "code",
   "execution_count": 37,
   "metadata": {},
   "outputs": [
    {
     "name": "stderr",
     "output_type": "stream",
     "text": [
      "C:\\Users\\efren\\anaconda3\\lib\\site-packages\\seaborn\\axisgrid.py:1840: UserWarning: JointGrid annotation is deprecated and will be removed in a future release.\n",
      "  warnings.warn(UserWarning(msg))\n"
     ]
    },
    {
     "data": {
      "image/png": "[encoded data removed]",
      "text/plain": [
       "<Figure size 432x432 with 3 Axes>"
      ]
     },
     "metadata": {
      "needs_background": "light"
     },
     "output_type": "display_data"
    }
   ],
   "source": [
    "show_rel('DIA', 'HORA', df_min)"
   ]
  },
  {
   "cell_type": "code",
   "execution_count": 38,
   "metadata": {},
   "outputs": [
    {
     "name": "stderr",
     "output_type": "stream",
     "text": [
      "C:\\Users\\efren\\anaconda3\\lib\\site-packages\\seaborn\\axisgrid.py:1840: UserWarning: JointGrid annotation is deprecated and will be removed in a future release.\n",
      "  warnings.warn(UserWarning(msg))\n"
     ]
    },
    {
     "data": {
      "image/png": "[encoded data removed]",
      "text/plain": [
       "<Figure size 432x432 with 3 Axes>"
      ]
     },
     "metadata": {
      "needs_background": "light"
     },
     "output_type": "display_data"
    }
   ],
   "source": [
    "show_rel('DIA NUMERO', 'HORA', df_min)"
   ]
  },
  {
   "cell_type": "markdown",
   "metadata": {},
   "source": [
    "#### DIA NUMERO VS MES"
   ]
  },
  {
   "cell_type": "code",
   "execution_count": 39,
   "metadata": {},
   "outputs": [
    {
     "name": "stderr",
     "output_type": "stream",
     "text": [
      "C:\\Users\\efren\\anaconda3\\lib\\site-packages\\seaborn\\axisgrid.py:1840: UserWarning: JointGrid annotation is deprecated and will be removed in a future release.\n",
      "  warnings.warn(UserWarning(msg))\n"
     ]
    },
    {
     "data": {
      "image/png": "[encoded data removed]",
      "text/plain": [
       "<Figure size 432x432 with 3 Axes>"
      ]
     },
     "metadata": {
      "needs_background": "light"
     },
     "output_type": "display_data"
    }
   ],
   "source": [
    "show_rel('DIA NUMERO', 'MES', df_min)"
   ]
  },
  {
   "cell_type": "code",
   "execution_count": 40,
   "metadata": {},
   "outputs": [
    {
     "name": "stderr",
     "output_type": "stream",
     "text": [
      "C:\\Users\\efren\\anaconda3\\lib\\site-packages\\seaborn\\axisgrid.py:1840: UserWarning: JointGrid annotation is deprecated and will be removed in a future release.\n",
      "  warnings.warn(UserWarning(msg))\n"
     ]
    },
    {
     "data": {
      "image/png": "[encoded data removed]",
      "text/plain": [
       "<Figure size 432x432 with 3 Axes>"
      ]
     },
     "metadata": {
      "needs_background": "light"
     },
     "output_type": "display_data"
    }
   ],
   "source": [
    "show_rel('HORA', 'MES', df_min)"
   ]
  },
  {
   "cell_type": "code",
   "execution_count": 41,
   "metadata": {},
   "outputs": [
    {
     "name": "stderr",
     "output_type": "stream",
     "text": [
      "C:\\Users\\efren\\anaconda3\\lib\\site-packages\\seaborn\\axisgrid.py:1840: UserWarning: JointGrid annotation is deprecated and will be removed in a future release.\n",
      "  warnings.warn(UserWarning(msg))\n"
     ]
    },
    {
     "data": {
      "image/png": "[encoded data removed]",
      "text/plain": [
       "<Figure size 432x432 with 3 Axes>"
      ]
     },
     "metadata": {
      "needs_background": "light"
     },
     "output_type": "display_data"
    }
   ],
   "source": [
    "show_rel('NIVEL DANO VEHICULO', 'HORA', df_min)"
   ]
  },
  {
   "cell_type": "code",
   "execution_count": 42,
   "metadata": {},
   "outputs": [
    {
     "name": "stderr",
     "output_type": "stream",
     "text": [
      "C:\\Users\\efren\\anaconda3\\lib\\site-packages\\seaborn\\axisgrid.py:1840: UserWarning: JointGrid annotation is deprecated and will be removed in a future release.\n",
      "  warnings.warn(UserWarning(msg))\n"
     ]
    },
    {
     "data": {
      "image/png": "[encoded data removed]",
      "text/plain": [
       "<Figure size 432x432 with 3 Axes>"
      ]
     },
     "metadata": {
      "needs_background": "light"
     },
     "output_type": "display_data"
    }
   ],
   "source": [
    "show_rel('LAT', 'LONG', df_min)"
   ]
  },
  {
   "cell_type": "code",
   "execution_count": 43,
   "metadata": {},
   "outputs": [
    {
     "data": {
      "text/html": [
       "<div>\n",
       "<style scoped>\n",
       "    .dataframe tbody tr th:only-of-type {\n",
       "        vertical-align: middle;\n",
       "    }\n",
       "\n",
       "    .dataframe tbody tr th {\n",
       "        vertical-align: top;\n",
       "    }\n",
       "\n",
       "    .dataframe thead th {\n",
       "        text-align: right;\n",
       "    }\n",
       "</style>\n",
       "<table border=\"1\" class=\"dataframe\">\n",
       "  <thead>\n",
       "    <tr style=\"text-align: right;\">\n",
       "      <th></th>\n",
       "      <th>LAT</th>\n",
       "      <th>LONG</th>\n",
       "      <th>CODIGO POSTAL</th>\n",
       "      <th>CALLE</th>\n",
       "      <th>COLONIA</th>\n",
       "      <th>MODELO_VEHICULO</th>\n",
       "      <th>NIVEL DANO VEHICULO</th>\n",
       "      <th>ANO</th>\n",
       "      <th>MES</th>\n",
       "      <th>DIA NUMERO</th>\n",
       "      <th>DIA</th>\n",
       "      <th>HORA</th>\n",
       "      <th>CIUDAD_APROXIMADA</th>\n",
       "      <th>GEOHASH</th>\n",
       "    </tr>\n",
       "  </thead>\n",
       "  <tbody>\n",
       "    <tr>\n",
       "      <th>64529</th>\n",
       "      <td>25.667</td>\n",
       "      <td>-100.319</td>\n",
       "      <td>64000</td>\n",
       "      <td>Calle Melchor OcampO</td>\n",
       "      <td>Monterrey Centro</td>\n",
       "      <td>2012</td>\n",
       "      <td>1</td>\n",
       "      <td>2016</td>\n",
       "      <td>1.0</td>\n",
       "      <td>20.0</td>\n",
       "      <td>2.0</td>\n",
       "      <td>18.0</td>\n",
       "      <td>MONTERREY</td>\n",
       "      <td>9u8dj</td>\n",
       "    </tr>\n",
       "    <tr>\n",
       "      <th>63691</th>\n",
       "      <td>25.658</td>\n",
       "      <td>-100.398</td>\n",
       "      <td>66236</td>\n",
       "      <td>Calle 16 de Septiembre</td>\n",
       "      <td>Palo Blanco</td>\n",
       "      <td>2013</td>\n",
       "      <td>0</td>\n",
       "      <td>2016</td>\n",
       "      <td>1.0</td>\n",
       "      <td>15.0</td>\n",
       "      <td>4.0</td>\n",
       "      <td>16.0</td>\n",
       "      <td>GARZA GARCIA</td>\n",
       "      <td>9u89g</td>\n",
       "    </tr>\n",
       "    <tr>\n",
       "      <th>76294</th>\n",
       "      <td>25.657</td>\n",
       "      <td>-100.280</td>\n",
       "      <td>647770</td>\n",
       "      <td>Avenida Revolución</td>\n",
       "      <td>Estadio</td>\n",
       "      <td>2014</td>\n",
       "      <td>0</td>\n",
       "      <td>2016</td>\n",
       "      <td>4.0</td>\n",
       "      <td>9.0</td>\n",
       "      <td>5.0</td>\n",
       "      <td>16.0</td>\n",
       "      <td>MONTERREY</td>\n",
       "      <td>9u89y</td>\n",
       "    </tr>\n",
       "    <tr>\n",
       "      <th>70941</th>\n",
       "      <td>25.680</td>\n",
       "      <td>-100.252</td>\n",
       "      <td>67140</td>\n",
       "      <td>Avenida Presidente Benito Juárez PLAZA 1</td>\n",
       "      <td>CENTRO</td>\n",
       "      <td>2015</td>\n",
       "      <td>0</td>\n",
       "      <td>2016</td>\n",
       "      <td>3.0</td>\n",
       "      <td>1.0</td>\n",
       "      <td>1.0</td>\n",
       "      <td>20.0</td>\n",
       "      <td>GUADALUPE</td>\n",
       "      <td>9u8dn</td>\n",
       "    </tr>\n",
       "    <tr>\n",
       "      <th>44818</th>\n",
       "      <td>25.679</td>\n",
       "      <td>-100.347</td>\n",
       "      <td>64000</td>\n",
       "      <td>Vicente Ferrara 112</td>\n",
       "      <td>Monterrey Centro</td>\n",
       "      <td>2002</td>\n",
       "      <td>1</td>\n",
       "      <td>2017</td>\n",
       "      <td>8.0</td>\n",
       "      <td>10.0</td>\n",
       "      <td>3.0</td>\n",
       "      <td>16.0</td>\n",
       "      <td>MONTERREY</td>\n",
       "      <td>9u8dh</td>\n",
       "    </tr>\n",
       "  </tbody>\n",
       "</table>\n",
       "</div>"
      ],
      "text/plain": [
       "          LAT     LONG CODIGO POSTAL  \\\n",
       "64529  25.667 -100.319         64000   \n",
       "63691  25.658 -100.398         66236   \n",
       "76294  25.657 -100.280        647770   \n",
       "70941  25.680 -100.252         67140   \n",
       "44818  25.679 -100.347         64000   \n",
       "\n",
       "                                          CALLE           COLONIA  \\\n",
       "64529                      Calle Melchor OcampO  Monterrey Centro   \n",
       "63691                    Calle 16 de Septiembre       Palo Blanco   \n",
       "76294                        Avenida Revolución           Estadio   \n",
       "70941  Avenida Presidente Benito Juárez PLAZA 1            CENTRO   \n",
       "44818                       Vicente Ferrara 112  Monterrey Centro   \n",
       "\n",
       "      MODELO_VEHICULO  NIVEL DANO VEHICULO   ANO  MES  DIA NUMERO  DIA  HORA  \\\n",
       "64529            2012                    1  2016  1.0        20.0  2.0  18.0   \n",
       "63691            2013                    0  2016  1.0        15.0  4.0  16.0   \n",
       "76294            2014                    0  2016  4.0         9.0  5.0  16.0   \n",
       "70941            2015                    0  2016  3.0         1.0  1.0  20.0   \n",
       "44818            2002                    1  2017  8.0        10.0  3.0  16.0   \n",
       "\n",
       "      CIUDAD_APROXIMADA GEOHASH  \n",
       "64529         MONTERREY   9u8dj  \n",
       "63691      GARZA GARCIA   9u89g  \n",
       "76294         MONTERREY   9u89y  \n",
       "70941         GUADALUPE   9u8dn  \n",
       "44818         MONTERREY   9u8dh  "
      ]
     },
     "execution_count": 43,
     "metadata": {},
     "output_type": "execute_result"
    }
   ],
   "source": [
    "df_min.head()"
   ]
  },
  {
   "cell_type": "code",
   "execution_count": 44,
   "metadata": {},
   "outputs": [],
   "source": [
    "df_min.to_csv('datlas_data_min.csv', encoding='utf-8-sig')"
   ]
  },
  {
   "cell_type": "code",
   "execution_count": 45,
   "metadata": {},
   "outputs": [],
   "source": [
    "df_simple = df_min.drop(columns=['LAT', 'LONG', 'CODIGO POSTAL', 'CALLE', 'COLONIA', 'MODELO_VEHICULO', 'NIVEL DANO VEHICULO', 'DIA', 'CIUDAD_APROXIMADA'])"
   ]
  },
  {
   "cell_type": "code",
   "execution_count": 46,
   "metadata": {},
   "outputs": [
    {
     "data": {
      "text/html": [
       "<div>\n",
       "<style scoped>\n",
       "    .dataframe tbody tr th:only-of-type {\n",
       "        vertical-align: middle;\n",
       "    }\n",
       "\n",
       "    .dataframe tbody tr th {\n",
       "        vertical-align: top;\n",
       "    }\n",
       "\n",
       "    .dataframe thead th {\n",
       "        text-align: right;\n",
       "    }\n",
       "</style>\n",
       "<table border=\"1\" class=\"dataframe\">\n",
       "  <thead>\n",
       "    <tr style=\"text-align: right;\">\n",
       "      <th></th>\n",
       "      <th>ANO</th>\n",
       "      <th>MES</th>\n",
       "      <th>DIA NUMERO</th>\n",
       "      <th>HORA</th>\n",
       "      <th>GEOHASH</th>\n",
       "    </tr>\n",
       "  </thead>\n",
       "  <tbody>\n",
       "    <tr>\n",
       "      <th>64529</th>\n",
       "      <td>2016</td>\n",
       "      <td>1.0</td>\n",
       "      <td>20.0</td>\n",
       "      <td>18.0</td>\n",
       "      <td>9u8dj</td>\n",
       "    </tr>\n",
       "    <tr>\n",
       "      <th>63691</th>\n",
       "      <td>2016</td>\n",
       "      <td>1.0</td>\n",
       "      <td>15.0</td>\n",
       "      <td>16.0</td>\n",
       "      <td>9u89g</td>\n",
       "    </tr>\n",
       "    <tr>\n",
       "      <th>76294</th>\n",
       "      <td>2016</td>\n",
       "      <td>4.0</td>\n",
       "      <td>9.0</td>\n",
       "      <td>16.0</td>\n",
       "      <td>9u89y</td>\n",
       "    </tr>\n",
       "    <tr>\n",
       "      <th>70941</th>\n",
       "      <td>2016</td>\n",
       "      <td>3.0</td>\n",
       "      <td>1.0</td>\n",
       "      <td>20.0</td>\n",
       "      <td>9u8dn</td>\n",
       "    </tr>\n",
       "    <tr>\n",
       "      <th>44818</th>\n",
       "      <td>2017</td>\n",
       "      <td>8.0</td>\n",
       "      <td>10.0</td>\n",
       "      <td>16.0</td>\n",
       "      <td>9u8dh</td>\n",
       "    </tr>\n",
       "  </tbody>\n",
       "</table>\n",
       "</div>"
      ],
      "text/plain": [
       "        ANO  MES  DIA NUMERO  HORA GEOHASH\n",
       "64529  2016  1.0        20.0  18.0   9u8dj\n",
       "63691  2016  1.0        15.0  16.0   9u89g\n",
       "76294  2016  4.0         9.0  16.0   9u89y\n",
       "70941  2016  3.0         1.0  20.0   9u8dn\n",
       "44818  2017  8.0        10.0  16.0   9u8dh"
      ]
     },
     "execution_count": 46,
     "metadata": {},
     "output_type": "execute_result"
    }
   ],
   "source": [
    "df_simple.head()"
   ]
  },
  {
   "cell_type": "code",
   "execution_count": 47,
   "metadata": {},
   "outputs": [],
   "source": [
    "df_simple['GEOHASH'] = pd.Categorical(df_simple['GEOHASH'])"
   ]
  },
  {
   "cell_type": "code",
   "execution_count": 48,
   "metadata": {},
   "outputs": [
    {
     "name": "stdout",
     "output_type": "stream",
     "text": [
      "<class 'pandas.core.frame.DataFrame'>\n",
      "Int64Index: 40000 entries, 64529 to 55585\n",
      "Data columns (total 5 columns):\n",
      " #   Column      Non-Null Count  Dtype   \n",
      "---  ------      --------------  -----   \n",
      " 0   ANO         40000 non-null  object  \n",
      " 1   MES         40000 non-null  float64 \n",
      " 2   DIA NUMERO  40000 non-null  float64 \n",
      " 3   HORA        40000 non-null  float64 \n",
      " 4   GEOHASH     40000 non-null  category\n",
      "dtypes: category(1), float64(3), object(1)\n",
      "memory usage: 1.6+ MB\n"
     ]
    }
   ],
   "source": [
    "df_simple.info()"
   ]
  },
  {
   "cell_type": "code",
   "execution_count": 123,
   "metadata": {},
   "outputs": [],
   "source": [
    "df_simple.to_csv('datlas_data_simple.csv', encoding='utf-8-sig', index=False)"
   ]
  },
  {
   "cell_type": "code",
   "execution_count": 49,
   "metadata": {},
   "outputs": [],
   "source": [
    "df_test2 = df_simple"
   ]
  },
  {
   "cell_type": "code",
   "execution_count": 50,
   "metadata": {},
   "outputs": [],
   "source": [
    "# Get names of indexes for which column Age has value 30\n",
    "indexNames = df_test2[ df_test2['GEOHASH'] == '9ub99'].index\n",
    "# Delete these row indexes from dataFrame\n",
    "df_test2.drop(indexNames , inplace=True)"
   ]
  },
  {
   "cell_type": "code",
   "execution_count": 52,
   "metadata": {},
   "outputs": [
    {
     "data": {
      "text/html": [
       "<div>\n",
       "<style scoped>\n",
       "    .dataframe tbody tr th:only-of-type {\n",
       "        vertical-align: middle;\n",
       "    }\n",
       "\n",
       "    .dataframe tbody tr th {\n",
       "        vertical-align: top;\n",
       "    }\n",
       "\n",
       "    .dataframe thead th {\n",
       "        text-align: right;\n",
       "    }\n",
       "</style>\n",
       "<table border=\"1\" class=\"dataframe\">\n",
       "  <thead>\n",
       "    <tr style=\"text-align: right;\">\n",
       "      <th></th>\n",
       "      <th>ANO</th>\n",
       "      <th>MES</th>\n",
       "      <th>DIA NUMERO</th>\n",
       "      <th>HORA</th>\n",
       "      <th>GEOHASH</th>\n",
       "    </tr>\n",
       "  </thead>\n",
       "  <tbody>\n",
       "  </tbody>\n",
       "</table>\n",
       "</div>"
      ],
      "text/plain": [
       "Empty DataFrame\n",
       "Columns: [ANO, MES, DIA NUMERO, HORA, GEOHASH]\n",
       "Index: []"
      ]
     },
     "execution_count": 52,
     "metadata": {},
     "output_type": "execute_result"
    }
   ],
   "source": [
    "df_test2[df_test2['GEOHASH'] == '9ub99']"
   ]
  },
  {
   "cell_type": "code",
   "execution_count": 53,
   "metadata": {},
   "outputs": [],
   "source": [
    "df_test2.to_csv('datlas_data_test2.csv', encoding='utf-8-sig', index=False)"
   ]
  },
  {
   "cell_type": "code",
   "execution_count": null,
   "metadata": {},
   "outputs": [],
   "source": []
  }
 ],
 "metadata": {
  "kernelspec": {
   "display_name": "Python 3",
   "language": "python",
   "name": "python3"
  },
  "language_info": {
   "codemirror_mode": {
    "name": "ipython",
    "version": 3
   },
   "file_extension": ".py",
   "mimetype": "text/x-python",
   "name": "python",
   "nbconvert_exporter": "python",
   "pygments_lexer": "ipython3",
   "version": "3.8.3"
  }
 },
 "nbformat": 4,
 "nbformat_minor": 4
}
